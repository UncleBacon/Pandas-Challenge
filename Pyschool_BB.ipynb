{
 "cells": [
  {
   "cell_type": "markdown",
   "metadata": {},
   "source": [
    "### Note\n",
    "* Instructions have been included for each segment. You do not have to follow them exactly, but they are included to help you think through the steps."
   ]
  },
  {
   "cell_type": "code",
   "execution_count": 77,
   "metadata": {},
   "outputs": [],
   "source": [
    "# Dependencies and Setup\n",
    "import pandas as pd\n",
    "\n",
    "# File to Load (Remember to Change These)\n",
    "school_data_to_load = r\"C:\\Users\\bastaw1\\PycharmProjects\\GitHub\\RU-SOM-DATA-PT-08-2019-U-C\\homework\\04-Pandas\\Instructions\\PyCitySchools\\Resources\\schools_complete.csv\"\n",
    "student_data_to_load = r\"C:\\Users\\bastaw1\\PycharmProjects\\GitHub\\RU-SOM-DATA-PT-08-2019-U-C\\homework\\04-Pandas\\Instructions\\PyCitySchools\\Resources\\students_complete.csv\"\n",
    "\n",
    "# Read School and Student Data File and store into Pandas Data Frames\n",
    "school_data = pd.read_csv(school_data_to_load)\n",
    "student_data = pd.read_csv(student_data_to_load)\n",
    "\n",
    "# Combine the data into a single dataset\n",
    "df = pd.merge(student_data, school_data, how=\"left\", on=[\"school_name\", \"school_name\"])"
   ]
  },
  {
   "cell_type": "markdown",
   "metadata": {},
   "source": [
    "## District Summary\n",
    "\n",
    "* Calculate the total number of schools\n",
    "\n",
    "* Calculate the total number of students\n",
    "\n",
    "* Calculate the total budget\n",
    "\n",
    "* Calculate the average math score \n",
    "\n",
    "* Calculate the average reading score\n",
    "\n",
    "* Calculate the overall passing rate (overall average score), i.e. (avg. math score + avg. reading score)/2\n",
    "\n",
    "* Calculate the percentage of students with a passing math score (70 or greater)\n",
    "\n",
    "* Calculate the percentage of students with a passing reading score (70 or greater)\n",
    "\n",
    "* Create a dataframe to hold the above results\n",
    "\n",
    "* Optional: give the displayed data cleaner formatting"
   ]
  },
  {
   "cell_type": "code",
   "execution_count": 59,
   "metadata": {},
   "outputs": [
    {
     "data": {
      "text/html": [
       "<style  type=\"text/css\" >\n",
       "</style><table id=\"T_d282f6a8_d286_11e9_a8dd_34415d51098b\" ><thead>    <tr>        <th class=\"blank level0\" ></th>        <th class=\"col_heading level0 col0\" >Total Schools</th>        <th class=\"col_heading level0 col1\" >Total Students</th>        <th class=\"col_heading level0 col2\" >Total Budget</th>        <th class=\"col_heading level0 col3\" >Average Math Score</th>        <th class=\"col_heading level0 col4\" >Average Reading Score</th>        <th class=\"col_heading level0 col5\" >% Passing Math</th>        <th class=\"col_heading level0 col6\" >% Passing Reading</th>        <th class=\"col_heading level0 col7\" >% Overall Passing Rate</th>    </tr></thead><tbody>\n",
       "                <tr>\n",
       "                        <th id=\"T_d282f6a8_d286_11e9_a8dd_34415d51098blevel0_row0\" class=\"row_heading level0 row0\" >0</th>\n",
       "                        <td id=\"T_d282f6a8_d286_11e9_a8dd_34415d51098brow0_col0\" class=\"data row0 col0\" >15</td>\n",
       "                        <td id=\"T_d282f6a8_d286_11e9_a8dd_34415d51098brow0_col1\" class=\"data row0 col1\" >39,170</td>\n",
       "                        <td id=\"T_d282f6a8_d286_11e9_a8dd_34415d51098brow0_col2\" class=\"data row0 col2\" >$24,649,428.00</td>\n",
       "                        <td id=\"T_d282f6a8_d286_11e9_a8dd_34415d51098brow0_col3\" class=\"data row0 col3\" >78.99</td>\n",
       "                        <td id=\"T_d282f6a8_d286_11e9_a8dd_34415d51098brow0_col4\" class=\"data row0 col4\" >81.88</td>\n",
       "                        <td id=\"T_d282f6a8_d286_11e9_a8dd_34415d51098brow0_col5\" class=\"data row0 col5\" >74.98%</td>\n",
       "                        <td id=\"T_d282f6a8_d286_11e9_a8dd_34415d51098brow0_col6\" class=\"data row0 col6\" >85.81%</td>\n",
       "                        <td id=\"T_d282f6a8_d286_11e9_a8dd_34415d51098brow0_col7\" class=\"data row0 col7\" >80.43%</td>\n",
       "            </tr>\n",
       "    </tbody></table>"
      ],
      "text/plain": [
       "<pandas.io.formats.style.Styler at 0x18267fea630>"
      ]
     },
     "execution_count": 59,
     "metadata": {},
     "output_type": "execute_result"
    }
   ],
   "source": [
    "total_schools = df['school_name'].nunique()\n",
    "total_students = df['student_name'].count()\n",
    "total_budget = df['budget'].unique().astype(float).sum()\n",
    "average_math = df['math_score'].mean()\n",
    "average_reading = df['reading_score'].mean()\n",
    "overall_average = (average_reading+average_math)/2\n",
    "passing_math = df[df['math_score']>=70]['math_score'].count()/total_students*100\n",
    "passing_reading = df[df['reading_score']>=70]['reading_score'].count()/total_students*100\n",
    "\n",
    "District_Summary = pd.DataFrame({'Total Schools':total_schools,\n",
    "                                'Total Students': total_students,\n",
    "                                'Total Budget':total_budget,\n",
    "                                'Average Math Score':average_math,\n",
    "                                'Average Reading Score':average_reading,\n",
    "                                '% Passing Math':passing_math,\n",
    "                                '% Passing Reading':passing_reading,\n",
    "                                '% Overall Passing Rate':[overall_average]})\n",
    "formats = {'Total Students':'{0:,}','Total Budget': '${0:,.2f}','Average Math Score':'{0:,.2f}','Average Reading Score':'{0:,.2f}','% Passing Math':'{0:,.2f}%','% Passing Reading':'{0:,.2f}%','% Overall Passing Rate':'{0:,.2f}%'}\n",
    "District_Summary.style.format(formats)"
   ]
  },
  {
   "cell_type": "code",
   "execution_count": null,
   "metadata": {},
   "outputs": [],
   "source": []
  },
  {
   "cell_type": "markdown",
   "metadata": {},
   "source": [
    "## School Summary"
   ]
  },
  {
   "cell_type": "markdown",
   "metadata": {},
   "source": [
    "* Create an overview table that summarizes key metrics about each school, including:\n",
    "  * School Name\n",
    "  * School Type\n",
    "  * Total Students\n",
    "  * Total School Budget\n",
    "  * Per Student Budget\n",
    "  * Average Math Score\n",
    "  * Average Reading Score\n",
    "  * % Passing Math\n",
    "  * % Passing Reading\n",
    "  * Overall Passing Rate (Average of the above two)\n",
    "  \n",
    "* Create a dataframe to hold the above results"
   ]
  },
  {
   "cell_type": "markdown",
   "metadata": {},
   "source": [
    "## Top Performing Schools (By Passing Rate)"
   ]
  },
  {
   "cell_type": "markdown",
   "metadata": {},
   "source": [
    "* Sort and display the top five schools in overall passing rate"
   ]
  },
  {
   "cell_type": "code",
   "execution_count": 78,
   "metadata": {},
   "outputs": [
    {
     "data": {
      "text/html": [
       "<style  type=\"text/css\" >\n",
       "</style><table id=\"T_44f93700_d2ee_11e9_96e2_34415d51098b\" ><thead>    <tr>        <th class=\"blank level0\" ></th>        <th class=\"col_heading level0 col0\" >School Type</th>        <th class=\"col_heading level0 col1\" >Total Students</th>        <th class=\"col_heading level0 col2\" >Total School Budget</th>        <th class=\"col_heading level0 col3\" >Per Student Budget</th>        <th class=\"col_heading level0 col4\" >Average Math Score</th>        <th class=\"col_heading level0 col5\" >Average Reading Score</th>        <th class=\"col_heading level0 col6\" >% Passing Math</th>        <th class=\"col_heading level0 col7\" >% Passing Reading</th>        <th class=\"col_heading level0 col8\" >% Overall Passing Rate</th>    </tr></thead><tbody>\n",
       "                <tr>\n",
       "                        <th id=\"T_44f93700_d2ee_11e9_96e2_34415d51098blevel0_row0\" class=\"row_heading level0 row0\" >Cabrera High School</th>\n",
       "                        <td id=\"T_44f93700_d2ee_11e9_96e2_34415d51098brow0_col0\" class=\"data row0 col0\" >Charter</td>\n",
       "                        <td id=\"T_44f93700_d2ee_11e9_96e2_34415d51098brow0_col1\" class=\"data row0 col1\" >1,858</td>\n",
       "                        <td id=\"T_44f93700_d2ee_11e9_96e2_34415d51098brow0_col2\" class=\"data row0 col2\" >$1,081,356.00</td>\n",
       "                        <td id=\"T_44f93700_d2ee_11e9_96e2_34415d51098brow0_col3\" class=\"data row0 col3\" >$582.00</td>\n",
       "                        <td id=\"T_44f93700_d2ee_11e9_96e2_34415d51098brow0_col4\" class=\"data row0 col4\" >83.06</td>\n",
       "                        <td id=\"T_44f93700_d2ee_11e9_96e2_34415d51098brow0_col5\" class=\"data row0 col5\" >83.98</td>\n",
       "                        <td id=\"T_44f93700_d2ee_11e9_96e2_34415d51098brow0_col6\" class=\"data row0 col6\" >94.13%</td>\n",
       "                        <td id=\"T_44f93700_d2ee_11e9_96e2_34415d51098brow0_col7\" class=\"data row0 col7\" >97.04%</td>\n",
       "                        <td id=\"T_44f93700_d2ee_11e9_96e2_34415d51098brow0_col8\" class=\"data row0 col8\" >95.59%</td>\n",
       "            </tr>\n",
       "            <tr>\n",
       "                        <th id=\"T_44f93700_d2ee_11e9_96e2_34415d51098blevel0_row1\" class=\"row_heading level0 row1\" >Thomas High School</th>\n",
       "                        <td id=\"T_44f93700_d2ee_11e9_96e2_34415d51098brow1_col0\" class=\"data row1 col0\" >Charter</td>\n",
       "                        <td id=\"T_44f93700_d2ee_11e9_96e2_34415d51098brow1_col1\" class=\"data row1 col1\" >1,635</td>\n",
       "                        <td id=\"T_44f93700_d2ee_11e9_96e2_34415d51098brow1_col2\" class=\"data row1 col2\" >$1,043,130.00</td>\n",
       "                        <td id=\"T_44f93700_d2ee_11e9_96e2_34415d51098brow1_col3\" class=\"data row1 col3\" >$638.00</td>\n",
       "                        <td id=\"T_44f93700_d2ee_11e9_96e2_34415d51098brow1_col4\" class=\"data row1 col4\" >83.42</td>\n",
       "                        <td id=\"T_44f93700_d2ee_11e9_96e2_34415d51098brow1_col5\" class=\"data row1 col5\" >83.85</td>\n",
       "                        <td id=\"T_44f93700_d2ee_11e9_96e2_34415d51098brow1_col6\" class=\"data row1 col6\" >93.27%</td>\n",
       "                        <td id=\"T_44f93700_d2ee_11e9_96e2_34415d51098brow1_col7\" class=\"data row1 col7\" >97.31%</td>\n",
       "                        <td id=\"T_44f93700_d2ee_11e9_96e2_34415d51098brow1_col8\" class=\"data row1 col8\" >95.29%</td>\n",
       "            </tr>\n",
       "            <tr>\n",
       "                        <th id=\"T_44f93700_d2ee_11e9_96e2_34415d51098blevel0_row2\" class=\"row_heading level0 row2\" >Pena High School</th>\n",
       "                        <td id=\"T_44f93700_d2ee_11e9_96e2_34415d51098brow2_col0\" class=\"data row2 col0\" >Charter</td>\n",
       "                        <td id=\"T_44f93700_d2ee_11e9_96e2_34415d51098brow2_col1\" class=\"data row2 col1\" >962</td>\n",
       "                        <td id=\"T_44f93700_d2ee_11e9_96e2_34415d51098brow2_col2\" class=\"data row2 col2\" >$585,858.00</td>\n",
       "                        <td id=\"T_44f93700_d2ee_11e9_96e2_34415d51098brow2_col3\" class=\"data row2 col3\" >$609.00</td>\n",
       "                        <td id=\"T_44f93700_d2ee_11e9_96e2_34415d51098brow2_col4\" class=\"data row2 col4\" >83.84</td>\n",
       "                        <td id=\"T_44f93700_d2ee_11e9_96e2_34415d51098brow2_col5\" class=\"data row2 col5\" >84.04</td>\n",
       "                        <td id=\"T_44f93700_d2ee_11e9_96e2_34415d51098brow2_col6\" class=\"data row2 col6\" >94.59%</td>\n",
       "                        <td id=\"T_44f93700_d2ee_11e9_96e2_34415d51098brow2_col7\" class=\"data row2 col7\" >95.95%</td>\n",
       "                        <td id=\"T_44f93700_d2ee_11e9_96e2_34415d51098brow2_col8\" class=\"data row2 col8\" >95.27%</td>\n",
       "            </tr>\n",
       "            <tr>\n",
       "                        <th id=\"T_44f93700_d2ee_11e9_96e2_34415d51098blevel0_row3\" class=\"row_heading level0 row3\" >Griffin High School</th>\n",
       "                        <td id=\"T_44f93700_d2ee_11e9_96e2_34415d51098brow3_col0\" class=\"data row3 col0\" >Charter</td>\n",
       "                        <td id=\"T_44f93700_d2ee_11e9_96e2_34415d51098brow3_col1\" class=\"data row3 col1\" >1,468</td>\n",
       "                        <td id=\"T_44f93700_d2ee_11e9_96e2_34415d51098brow3_col2\" class=\"data row3 col2\" >$917,500.00</td>\n",
       "                        <td id=\"T_44f93700_d2ee_11e9_96e2_34415d51098brow3_col3\" class=\"data row3 col3\" >$625.00</td>\n",
       "                        <td id=\"T_44f93700_d2ee_11e9_96e2_34415d51098brow3_col4\" class=\"data row3 col4\" >83.35</td>\n",
       "                        <td id=\"T_44f93700_d2ee_11e9_96e2_34415d51098brow3_col5\" class=\"data row3 col5\" >83.82</td>\n",
       "                        <td id=\"T_44f93700_d2ee_11e9_96e2_34415d51098brow3_col6\" class=\"data row3 col6\" >93.39%</td>\n",
       "                        <td id=\"T_44f93700_d2ee_11e9_96e2_34415d51098brow3_col7\" class=\"data row3 col7\" >97.14%</td>\n",
       "                        <td id=\"T_44f93700_d2ee_11e9_96e2_34415d51098brow3_col8\" class=\"data row3 col8\" >95.27%</td>\n",
       "            </tr>\n",
       "            <tr>\n",
       "                        <th id=\"T_44f93700_d2ee_11e9_96e2_34415d51098blevel0_row4\" class=\"row_heading level0 row4\" >Wilson High School</th>\n",
       "                        <td id=\"T_44f93700_d2ee_11e9_96e2_34415d51098brow4_col0\" class=\"data row4 col0\" >Charter</td>\n",
       "                        <td id=\"T_44f93700_d2ee_11e9_96e2_34415d51098brow4_col1\" class=\"data row4 col1\" >2,283</td>\n",
       "                        <td id=\"T_44f93700_d2ee_11e9_96e2_34415d51098brow4_col2\" class=\"data row4 col2\" >$1,319,574.00</td>\n",
       "                        <td id=\"T_44f93700_d2ee_11e9_96e2_34415d51098brow4_col3\" class=\"data row4 col3\" >$578.00</td>\n",
       "                        <td id=\"T_44f93700_d2ee_11e9_96e2_34415d51098brow4_col4\" class=\"data row4 col4\" >83.27</td>\n",
       "                        <td id=\"T_44f93700_d2ee_11e9_96e2_34415d51098brow4_col5\" class=\"data row4 col5\" >83.99</td>\n",
       "                        <td id=\"T_44f93700_d2ee_11e9_96e2_34415d51098brow4_col6\" class=\"data row4 col6\" >93.87%</td>\n",
       "                        <td id=\"T_44f93700_d2ee_11e9_96e2_34415d51098brow4_col7\" class=\"data row4 col7\" >96.54%</td>\n",
       "                        <td id=\"T_44f93700_d2ee_11e9_96e2_34415d51098brow4_col8\" class=\"data row4 col8\" >95.20%</td>\n",
       "            </tr>\n",
       "    </tbody></table>"
      ],
      "text/plain": [
       "<pandas.io.formats.style.Styler at 0x182696844e0>"
      ]
     },
     "execution_count": 78,
     "metadata": {},
     "output_type": "execute_result"
    }
   ],
   "source": [
    "school_group = df.groupby(['school_name','type'])\n",
    "# school_type = school_group['type'].unique()\n",
    "total_students = school_group['size'].unique().astype(int)\n",
    "total_budget = school_group['budget'].unique().astype(int) \n",
    "per_student = total_budget/total_students\n",
    "math_average = school_group['math_score'].mean()\n",
    "reading_average = school_group['reading_score'].mean()\n",
    "passing_math = df[df['math_score']>=70].groupby(['school_name','type'])\n",
    "school_passing_math = passing_math['math_score'].count()/total_students*100\n",
    "passing_reading = df[df['reading_score']>=70].groupby(['school_name','type'])\n",
    "school_passing_reading = passing_reading['reading_score'].count()/total_students*100\n",
    "average_overall = (school_passing_math+school_passing_reading)/2\n",
    "School_Summary = pd.DataFrame({ 'Total Students':total_students,\n",
    "                                'Total School Budget':total_budget,\n",
    "                               'Per Student Budget':per_student,\n",
    "                                'Average Math Score':math_average,\n",
    "                                'Average Reading Score':reading_average,\n",
    "                                '% Passing Math':school_passing_math,\n",
    "                                '% Passing Reading':school_passing_reading,\n",
    "                                '% Overall Passing Rate':average_overall})\n",
    "\n",
    "School_Summary.reset_index(inplace=True)\n",
    "School_Summary.set_index('school_name',inplace = True)\n",
    "School_Summary.index.name = None\n",
    "formats = {'Total Students':'{0:,}','Total School Budget': '${0:,.2f}','Per Student Budget':'${0:,.2f}','Average Math Score':'{0:,.2f}','Average Reading Score':'{0:,.2f}','% Passing Math':'{0:,.2f}%','% Passing Reading':'{0:,.2f}%','% Overall Passing Rate':'{0:,.2f}%'}\n",
    "School_Summary.rename(columns = {'type':'School Type'},inplace = True)\n",
    "School_Summary.sort_values('% Overall Passing Rate',ascending = False).head().style.format(formats)"
   ]
  },
  {
   "cell_type": "markdown",
   "metadata": {},
   "source": [
    "## Bottom Performing Schools (By Passing Rate)"
   ]
  },
  {
   "cell_type": "markdown",
   "metadata": {},
   "source": [
    "* Sort and display the five worst-performing schools"
   ]
  },
  {
   "cell_type": "code",
   "execution_count": 62,
   "metadata": {},
   "outputs": [
    {
     "data": {
      "text/html": [
       "<style  type=\"text/css\" >\n",
       "</style><table id=\"T_d29ee34a_d286_11e9_b7a9_34415d51098b\" ><thead>    <tr>        <th class=\"blank level0\" ></th>        <th class=\"col_heading level0 col0\" >School Type</th>        <th class=\"col_heading level0 col1\" >Total Students</th>        <th class=\"col_heading level0 col2\" >Total School Budget</th>        <th class=\"col_heading level0 col3\" >Per Student Budget</th>        <th class=\"col_heading level0 col4\" >Average Math Score</th>        <th class=\"col_heading level0 col5\" >Average Reading Score</th>        <th class=\"col_heading level0 col6\" >% Passing Math</th>        <th class=\"col_heading level0 col7\" >% Passing Reading</th>        <th class=\"col_heading level0 col8\" >% Overall Passing Rate</th>    </tr></thead><tbody>\n",
       "                <tr>\n",
       "                        <th id=\"T_d29ee34a_d286_11e9_b7a9_34415d51098blevel0_row0\" class=\"row_heading level0 row0\" >Rodriguez High School</th>\n",
       "                        <td id=\"T_d29ee34a_d286_11e9_b7a9_34415d51098brow0_col0\" class=\"data row0 col0\" >District</td>\n",
       "                        <td id=\"T_d29ee34a_d286_11e9_b7a9_34415d51098brow0_col1\" class=\"data row0 col1\" >3,999</td>\n",
       "                        <td id=\"T_d29ee34a_d286_11e9_b7a9_34415d51098brow0_col2\" class=\"data row0 col2\" >$2,547,363.00</td>\n",
       "                        <td id=\"T_d29ee34a_d286_11e9_b7a9_34415d51098brow0_col3\" class=\"data row0 col3\" >$637.00</td>\n",
       "                        <td id=\"T_d29ee34a_d286_11e9_b7a9_34415d51098brow0_col4\" class=\"data row0 col4\" >76.84</td>\n",
       "                        <td id=\"T_d29ee34a_d286_11e9_b7a9_34415d51098brow0_col5\" class=\"data row0 col5\" >80.74</td>\n",
       "                        <td id=\"T_d29ee34a_d286_11e9_b7a9_34415d51098brow0_col6\" class=\"data row0 col6\" >66.37%</td>\n",
       "                        <td id=\"T_d29ee34a_d286_11e9_b7a9_34415d51098brow0_col7\" class=\"data row0 col7\" >80.22%</td>\n",
       "                        <td id=\"T_d29ee34a_d286_11e9_b7a9_34415d51098brow0_col8\" class=\"data row0 col8\" >73.29%</td>\n",
       "            </tr>\n",
       "            <tr>\n",
       "                        <th id=\"T_d29ee34a_d286_11e9_b7a9_34415d51098blevel0_row1\" class=\"row_heading level0 row1\" >Figueroa High School</th>\n",
       "                        <td id=\"T_d29ee34a_d286_11e9_b7a9_34415d51098brow1_col0\" class=\"data row1 col0\" >District</td>\n",
       "                        <td id=\"T_d29ee34a_d286_11e9_b7a9_34415d51098brow1_col1\" class=\"data row1 col1\" >2,949</td>\n",
       "                        <td id=\"T_d29ee34a_d286_11e9_b7a9_34415d51098brow1_col2\" class=\"data row1 col2\" >$1,884,411.00</td>\n",
       "                        <td id=\"T_d29ee34a_d286_11e9_b7a9_34415d51098brow1_col3\" class=\"data row1 col3\" >$639.00</td>\n",
       "                        <td id=\"T_d29ee34a_d286_11e9_b7a9_34415d51098brow1_col4\" class=\"data row1 col4\" >76.71</td>\n",
       "                        <td id=\"T_d29ee34a_d286_11e9_b7a9_34415d51098brow1_col5\" class=\"data row1 col5\" >81.16</td>\n",
       "                        <td id=\"T_d29ee34a_d286_11e9_b7a9_34415d51098brow1_col6\" class=\"data row1 col6\" >65.99%</td>\n",
       "                        <td id=\"T_d29ee34a_d286_11e9_b7a9_34415d51098brow1_col7\" class=\"data row1 col7\" >80.74%</td>\n",
       "                        <td id=\"T_d29ee34a_d286_11e9_b7a9_34415d51098brow1_col8\" class=\"data row1 col8\" >73.36%</td>\n",
       "            </tr>\n",
       "            <tr>\n",
       "                        <th id=\"T_d29ee34a_d286_11e9_b7a9_34415d51098blevel0_row2\" class=\"row_heading level0 row2\" >Huang High School</th>\n",
       "                        <td id=\"T_d29ee34a_d286_11e9_b7a9_34415d51098brow2_col0\" class=\"data row2 col0\" >District</td>\n",
       "                        <td id=\"T_d29ee34a_d286_11e9_b7a9_34415d51098brow2_col1\" class=\"data row2 col1\" >2,917</td>\n",
       "                        <td id=\"T_d29ee34a_d286_11e9_b7a9_34415d51098brow2_col2\" class=\"data row2 col2\" >$1,910,635.00</td>\n",
       "                        <td id=\"T_d29ee34a_d286_11e9_b7a9_34415d51098brow2_col3\" class=\"data row2 col3\" >$655.00</td>\n",
       "                        <td id=\"T_d29ee34a_d286_11e9_b7a9_34415d51098brow2_col4\" class=\"data row2 col4\" >76.63</td>\n",
       "                        <td id=\"T_d29ee34a_d286_11e9_b7a9_34415d51098brow2_col5\" class=\"data row2 col5\" >81.18</td>\n",
       "                        <td id=\"T_d29ee34a_d286_11e9_b7a9_34415d51098brow2_col6\" class=\"data row2 col6\" >65.68%</td>\n",
       "                        <td id=\"T_d29ee34a_d286_11e9_b7a9_34415d51098brow2_col7\" class=\"data row2 col7\" >81.32%</td>\n",
       "                        <td id=\"T_d29ee34a_d286_11e9_b7a9_34415d51098brow2_col8\" class=\"data row2 col8\" >73.50%</td>\n",
       "            </tr>\n",
       "            <tr>\n",
       "                        <th id=\"T_d29ee34a_d286_11e9_b7a9_34415d51098blevel0_row3\" class=\"row_heading level0 row3\" >Johnson High School</th>\n",
       "                        <td id=\"T_d29ee34a_d286_11e9_b7a9_34415d51098brow3_col0\" class=\"data row3 col0\" >District</td>\n",
       "                        <td id=\"T_d29ee34a_d286_11e9_b7a9_34415d51098brow3_col1\" class=\"data row3 col1\" >4,761</td>\n",
       "                        <td id=\"T_d29ee34a_d286_11e9_b7a9_34415d51098brow3_col2\" class=\"data row3 col2\" >$3,094,650.00</td>\n",
       "                        <td id=\"T_d29ee34a_d286_11e9_b7a9_34415d51098brow3_col3\" class=\"data row3 col3\" >$650.00</td>\n",
       "                        <td id=\"T_d29ee34a_d286_11e9_b7a9_34415d51098brow3_col4\" class=\"data row3 col4\" >77.07</td>\n",
       "                        <td id=\"T_d29ee34a_d286_11e9_b7a9_34415d51098brow3_col5\" class=\"data row3 col5\" >80.97</td>\n",
       "                        <td id=\"T_d29ee34a_d286_11e9_b7a9_34415d51098brow3_col6\" class=\"data row3 col6\" >66.06%</td>\n",
       "                        <td id=\"T_d29ee34a_d286_11e9_b7a9_34415d51098brow3_col7\" class=\"data row3 col7\" >81.22%</td>\n",
       "                        <td id=\"T_d29ee34a_d286_11e9_b7a9_34415d51098brow3_col8\" class=\"data row3 col8\" >73.64%</td>\n",
       "            </tr>\n",
       "            <tr>\n",
       "                        <th id=\"T_d29ee34a_d286_11e9_b7a9_34415d51098blevel0_row4\" class=\"row_heading level0 row4\" >Ford High School</th>\n",
       "                        <td id=\"T_d29ee34a_d286_11e9_b7a9_34415d51098brow4_col0\" class=\"data row4 col0\" >District</td>\n",
       "                        <td id=\"T_d29ee34a_d286_11e9_b7a9_34415d51098brow4_col1\" class=\"data row4 col1\" >2,739</td>\n",
       "                        <td id=\"T_d29ee34a_d286_11e9_b7a9_34415d51098brow4_col2\" class=\"data row4 col2\" >$1,763,916.00</td>\n",
       "                        <td id=\"T_d29ee34a_d286_11e9_b7a9_34415d51098brow4_col3\" class=\"data row4 col3\" >$644.00</td>\n",
       "                        <td id=\"T_d29ee34a_d286_11e9_b7a9_34415d51098brow4_col4\" class=\"data row4 col4\" >77.10</td>\n",
       "                        <td id=\"T_d29ee34a_d286_11e9_b7a9_34415d51098brow4_col5\" class=\"data row4 col5\" >80.75</td>\n",
       "                        <td id=\"T_d29ee34a_d286_11e9_b7a9_34415d51098brow4_col6\" class=\"data row4 col6\" >68.31%</td>\n",
       "                        <td id=\"T_d29ee34a_d286_11e9_b7a9_34415d51098brow4_col7\" class=\"data row4 col7\" >79.30%</td>\n",
       "                        <td id=\"T_d29ee34a_d286_11e9_b7a9_34415d51098brow4_col8\" class=\"data row4 col8\" >73.80%</td>\n",
       "            </tr>\n",
       "    </tbody></table>"
      ],
      "text/plain": [
       "<pandas.io.formats.style.Styler at 0x182684c29b0>"
      ]
     },
     "execution_count": 62,
     "metadata": {},
     "output_type": "execute_result"
    }
   ],
   "source": [
    "School_Summary.sort_values('% Overall Passing Rate',ascending = True).head().style.format(formats)"
   ]
  },
  {
   "cell_type": "code",
   "execution_count": null,
   "metadata": {},
   "outputs": [],
   "source": []
  },
  {
   "cell_type": "markdown",
   "metadata": {
    "collapsed": true
   },
   "source": [
    "## Math Scores by Grade"
   ]
  },
  {
   "cell_type": "markdown",
   "metadata": {},
   "source": [
    "* Create a table that lists the average Reading Score for students of each grade level (9th, 10th, 11th, 12th) at each school.\n",
    "\n",
    "  * Create a pandas series for each grade. Hint: use a conditional statement.\n",
    "  \n",
    "  * Group each series by school\n",
    "  \n",
    "  * Combine the series into a dataframe\n",
    "  \n",
    "  * Optional: give the displayed data cleaner formatting"
   ]
  },
  {
   "cell_type": "code",
   "execution_count": 63,
   "metadata": {},
   "outputs": [
    {
     "data": {
      "text/html": [
       "<style  type=\"text/css\" >\n",
       "</style><table id=\"T_d2afd314_d286_11e9_8090_34415d51098b\" ><thead>    <tr>        <th class=\"blank level0\" ></th>        <th class=\"col_heading level0 col0\" >9th</th>        <th class=\"col_heading level0 col1\" >10th</th>        <th class=\"col_heading level0 col2\" >11th</th>        <th class=\"col_heading level0 col3\" >12th</th>    </tr></thead><tbody>\n",
       "                <tr>\n",
       "                        <th id=\"T_d2afd314_d286_11e9_8090_34415d51098blevel0_row0\" class=\"row_heading level0 row0\" >Bailey High School</th>\n",
       "                        <td id=\"T_d2afd314_d286_11e9_8090_34415d51098brow0_col0\" class=\"data row0 col0\" >77.08</td>\n",
       "                        <td id=\"T_d2afd314_d286_11e9_8090_34415d51098brow0_col1\" class=\"data row0 col1\" >77.00</td>\n",
       "                        <td id=\"T_d2afd314_d286_11e9_8090_34415d51098brow0_col2\" class=\"data row0 col2\" >77.52</td>\n",
       "                        <td id=\"T_d2afd314_d286_11e9_8090_34415d51098brow0_col3\" class=\"data row0 col3\" >76.49</td>\n",
       "            </tr>\n",
       "            <tr>\n",
       "                        <th id=\"T_d2afd314_d286_11e9_8090_34415d51098blevel0_row1\" class=\"row_heading level0 row1\" >Cabrera High School</th>\n",
       "                        <td id=\"T_d2afd314_d286_11e9_8090_34415d51098brow1_col0\" class=\"data row1 col0\" >83.09</td>\n",
       "                        <td id=\"T_d2afd314_d286_11e9_8090_34415d51098brow1_col1\" class=\"data row1 col1\" >83.15</td>\n",
       "                        <td id=\"T_d2afd314_d286_11e9_8090_34415d51098brow1_col2\" class=\"data row1 col2\" >82.77</td>\n",
       "                        <td id=\"T_d2afd314_d286_11e9_8090_34415d51098brow1_col3\" class=\"data row1 col3\" >83.28</td>\n",
       "            </tr>\n",
       "            <tr>\n",
       "                        <th id=\"T_d2afd314_d286_11e9_8090_34415d51098blevel0_row2\" class=\"row_heading level0 row2\" >Figueroa High School</th>\n",
       "                        <td id=\"T_d2afd314_d286_11e9_8090_34415d51098brow2_col0\" class=\"data row2 col0\" >76.40</td>\n",
       "                        <td id=\"T_d2afd314_d286_11e9_8090_34415d51098brow2_col1\" class=\"data row2 col1\" >76.54</td>\n",
       "                        <td id=\"T_d2afd314_d286_11e9_8090_34415d51098brow2_col2\" class=\"data row2 col2\" >76.88</td>\n",
       "                        <td id=\"T_d2afd314_d286_11e9_8090_34415d51098brow2_col3\" class=\"data row2 col3\" >77.15</td>\n",
       "            </tr>\n",
       "            <tr>\n",
       "                        <th id=\"T_d2afd314_d286_11e9_8090_34415d51098blevel0_row3\" class=\"row_heading level0 row3\" >Ford High School</th>\n",
       "                        <td id=\"T_d2afd314_d286_11e9_8090_34415d51098brow3_col0\" class=\"data row3 col0\" >77.36</td>\n",
       "                        <td id=\"T_d2afd314_d286_11e9_8090_34415d51098brow3_col1\" class=\"data row3 col1\" >77.67</td>\n",
       "                        <td id=\"T_d2afd314_d286_11e9_8090_34415d51098brow3_col2\" class=\"data row3 col2\" >76.92</td>\n",
       "                        <td id=\"T_d2afd314_d286_11e9_8090_34415d51098brow3_col3\" class=\"data row3 col3\" >76.18</td>\n",
       "            </tr>\n",
       "            <tr>\n",
       "                        <th id=\"T_d2afd314_d286_11e9_8090_34415d51098blevel0_row4\" class=\"row_heading level0 row4\" >Griffin High School</th>\n",
       "                        <td id=\"T_d2afd314_d286_11e9_8090_34415d51098brow4_col0\" class=\"data row4 col0\" >82.04</td>\n",
       "                        <td id=\"T_d2afd314_d286_11e9_8090_34415d51098brow4_col1\" class=\"data row4 col1\" >84.23</td>\n",
       "                        <td id=\"T_d2afd314_d286_11e9_8090_34415d51098brow4_col2\" class=\"data row4 col2\" >83.84</td>\n",
       "                        <td id=\"T_d2afd314_d286_11e9_8090_34415d51098brow4_col3\" class=\"data row4 col3\" >83.36</td>\n",
       "            </tr>\n",
       "            <tr>\n",
       "                        <th id=\"T_d2afd314_d286_11e9_8090_34415d51098blevel0_row5\" class=\"row_heading level0 row5\" >Hernandez High School</th>\n",
       "                        <td id=\"T_d2afd314_d286_11e9_8090_34415d51098brow5_col0\" class=\"data row5 col0\" >77.44</td>\n",
       "                        <td id=\"T_d2afd314_d286_11e9_8090_34415d51098brow5_col1\" class=\"data row5 col1\" >77.34</td>\n",
       "                        <td id=\"T_d2afd314_d286_11e9_8090_34415d51098brow5_col2\" class=\"data row5 col2\" >77.14</td>\n",
       "                        <td id=\"T_d2afd314_d286_11e9_8090_34415d51098brow5_col3\" class=\"data row5 col3\" >77.19</td>\n",
       "            </tr>\n",
       "            <tr>\n",
       "                        <th id=\"T_d2afd314_d286_11e9_8090_34415d51098blevel0_row6\" class=\"row_heading level0 row6\" >Holden High School</th>\n",
       "                        <td id=\"T_d2afd314_d286_11e9_8090_34415d51098brow6_col0\" class=\"data row6 col0\" >83.79</td>\n",
       "                        <td id=\"T_d2afd314_d286_11e9_8090_34415d51098brow6_col1\" class=\"data row6 col1\" >83.43</td>\n",
       "                        <td id=\"T_d2afd314_d286_11e9_8090_34415d51098brow6_col2\" class=\"data row6 col2\" >85.00</td>\n",
       "                        <td id=\"T_d2afd314_d286_11e9_8090_34415d51098brow6_col3\" class=\"data row6 col3\" >82.86</td>\n",
       "            </tr>\n",
       "            <tr>\n",
       "                        <th id=\"T_d2afd314_d286_11e9_8090_34415d51098blevel0_row7\" class=\"row_heading level0 row7\" >Huang High School</th>\n",
       "                        <td id=\"T_d2afd314_d286_11e9_8090_34415d51098brow7_col0\" class=\"data row7 col0\" >77.03</td>\n",
       "                        <td id=\"T_d2afd314_d286_11e9_8090_34415d51098brow7_col1\" class=\"data row7 col1\" >75.91</td>\n",
       "                        <td id=\"T_d2afd314_d286_11e9_8090_34415d51098brow7_col2\" class=\"data row7 col2\" >76.45</td>\n",
       "                        <td id=\"T_d2afd314_d286_11e9_8090_34415d51098brow7_col3\" class=\"data row7 col3\" >77.23</td>\n",
       "            </tr>\n",
       "            <tr>\n",
       "                        <th id=\"T_d2afd314_d286_11e9_8090_34415d51098blevel0_row8\" class=\"row_heading level0 row8\" >Johnson High School</th>\n",
       "                        <td id=\"T_d2afd314_d286_11e9_8090_34415d51098brow8_col0\" class=\"data row8 col0\" >77.19</td>\n",
       "                        <td id=\"T_d2afd314_d286_11e9_8090_34415d51098brow8_col1\" class=\"data row8 col1\" >76.69</td>\n",
       "                        <td id=\"T_d2afd314_d286_11e9_8090_34415d51098brow8_col2\" class=\"data row8 col2\" >77.49</td>\n",
       "                        <td id=\"T_d2afd314_d286_11e9_8090_34415d51098brow8_col3\" class=\"data row8 col3\" >76.86</td>\n",
       "            </tr>\n",
       "            <tr>\n",
       "                        <th id=\"T_d2afd314_d286_11e9_8090_34415d51098blevel0_row9\" class=\"row_heading level0 row9\" >Pena High School</th>\n",
       "                        <td id=\"T_d2afd314_d286_11e9_8090_34415d51098brow9_col0\" class=\"data row9 col0\" >83.63</td>\n",
       "                        <td id=\"T_d2afd314_d286_11e9_8090_34415d51098brow9_col1\" class=\"data row9 col1\" >83.37</td>\n",
       "                        <td id=\"T_d2afd314_d286_11e9_8090_34415d51098brow9_col2\" class=\"data row9 col2\" >84.33</td>\n",
       "                        <td id=\"T_d2afd314_d286_11e9_8090_34415d51098brow9_col3\" class=\"data row9 col3\" >84.12</td>\n",
       "            </tr>\n",
       "            <tr>\n",
       "                        <th id=\"T_d2afd314_d286_11e9_8090_34415d51098blevel0_row10\" class=\"row_heading level0 row10\" >Rodriguez High School</th>\n",
       "                        <td id=\"T_d2afd314_d286_11e9_8090_34415d51098brow10_col0\" class=\"data row10 col0\" >76.86</td>\n",
       "                        <td id=\"T_d2afd314_d286_11e9_8090_34415d51098brow10_col1\" class=\"data row10 col1\" >76.61</td>\n",
       "                        <td id=\"T_d2afd314_d286_11e9_8090_34415d51098brow10_col2\" class=\"data row10 col2\" >76.40</td>\n",
       "                        <td id=\"T_d2afd314_d286_11e9_8090_34415d51098brow10_col3\" class=\"data row10 col3\" >77.69</td>\n",
       "            </tr>\n",
       "            <tr>\n",
       "                        <th id=\"T_d2afd314_d286_11e9_8090_34415d51098blevel0_row11\" class=\"row_heading level0 row11\" >Shelton High School</th>\n",
       "                        <td id=\"T_d2afd314_d286_11e9_8090_34415d51098brow11_col0\" class=\"data row11 col0\" >83.42</td>\n",
       "                        <td id=\"T_d2afd314_d286_11e9_8090_34415d51098brow11_col1\" class=\"data row11 col1\" >82.92</td>\n",
       "                        <td id=\"T_d2afd314_d286_11e9_8090_34415d51098brow11_col2\" class=\"data row11 col2\" >83.38</td>\n",
       "                        <td id=\"T_d2afd314_d286_11e9_8090_34415d51098brow11_col3\" class=\"data row11 col3\" >83.78</td>\n",
       "            </tr>\n",
       "            <tr>\n",
       "                        <th id=\"T_d2afd314_d286_11e9_8090_34415d51098blevel0_row12\" class=\"row_heading level0 row12\" >Thomas High School</th>\n",
       "                        <td id=\"T_d2afd314_d286_11e9_8090_34415d51098brow12_col0\" class=\"data row12 col0\" >83.59</td>\n",
       "                        <td id=\"T_d2afd314_d286_11e9_8090_34415d51098brow12_col1\" class=\"data row12 col1\" >83.09</td>\n",
       "                        <td id=\"T_d2afd314_d286_11e9_8090_34415d51098brow12_col2\" class=\"data row12 col2\" >83.50</td>\n",
       "                        <td id=\"T_d2afd314_d286_11e9_8090_34415d51098brow12_col3\" class=\"data row12 col3\" >83.50</td>\n",
       "            </tr>\n",
       "            <tr>\n",
       "                        <th id=\"T_d2afd314_d286_11e9_8090_34415d51098blevel0_row13\" class=\"row_heading level0 row13\" >Wilson High School</th>\n",
       "                        <td id=\"T_d2afd314_d286_11e9_8090_34415d51098brow13_col0\" class=\"data row13 col0\" >83.09</td>\n",
       "                        <td id=\"T_d2afd314_d286_11e9_8090_34415d51098brow13_col1\" class=\"data row13 col1\" >83.72</td>\n",
       "                        <td id=\"T_d2afd314_d286_11e9_8090_34415d51098brow13_col2\" class=\"data row13 col2\" >83.20</td>\n",
       "                        <td id=\"T_d2afd314_d286_11e9_8090_34415d51098brow13_col3\" class=\"data row13 col3\" >83.04</td>\n",
       "            </tr>\n",
       "            <tr>\n",
       "                        <th id=\"T_d2afd314_d286_11e9_8090_34415d51098blevel0_row14\" class=\"row_heading level0 row14\" >Wright High School</th>\n",
       "                        <td id=\"T_d2afd314_d286_11e9_8090_34415d51098brow14_col0\" class=\"data row14 col0\" >83.26</td>\n",
       "                        <td id=\"T_d2afd314_d286_11e9_8090_34415d51098brow14_col1\" class=\"data row14 col1\" >84.01</td>\n",
       "                        <td id=\"T_d2afd314_d286_11e9_8090_34415d51098brow14_col2\" class=\"data row14 col2\" >83.84</td>\n",
       "                        <td id=\"T_d2afd314_d286_11e9_8090_34415d51098brow14_col3\" class=\"data row14 col3\" >83.64</td>\n",
       "            </tr>\n",
       "    </tbody></table>"
      ],
      "text/plain": [
       "<pandas.io.formats.style.Styler at 0x18267ff9da0>"
      ]
     },
     "execution_count": 63,
     "metadata": {},
     "output_type": "execute_result"
    }
   ],
   "source": [
    "grade9 = df[df['grade']=='9th'].groupby('school_name')\n",
    "avgmath9 = grade9['math_score'].mean()\n",
    "\n",
    "grade10 = df[df['grade']=='10th'].groupby('school_name')\n",
    "avgmath10 = grade10['math_score'].mean()\n",
    "\n",
    "grade11 = df[df['grade']=='11th'].groupby('school_name')\n",
    "avgmath11 = grade11['math_score'].mean()\n",
    "\n",
    "grade12 = df[df['grade']=='12th'].groupby('school_name')\n",
    "avgmath12 = grade12['math_score'].mean()\n",
    "\n",
    "\n",
    "\n",
    "school_math = pd.DataFrame({'9th':avgmath9,\n",
    "                               '10th':avgmath10,\n",
    "                               '11th':avgmath11,\n",
    "                               '12th':avgmath12})\n",
    "school_math.index.name=None\n",
    "\n",
    "school_math.style.format('{0:.2f}')"
   ]
  },
  {
   "cell_type": "code",
   "execution_count": null,
   "metadata": {},
   "outputs": [],
   "source": []
  },
  {
   "cell_type": "markdown",
   "metadata": {},
   "source": [
    "## Reading Score by Grade "
   ]
  },
  {
   "cell_type": "markdown",
   "metadata": {},
   "source": [
    "* Perform the same operations as above for reading scores"
   ]
  },
  {
   "cell_type": "code",
   "execution_count": 64,
   "metadata": {},
   "outputs": [
    {
     "data": {
      "text/html": [
       "<style  type=\"text/css\" >\n",
       "</style><table id=\"T_d2b50338_d286_11e9_8418_34415d51098b\" ><thead>    <tr>        <th class=\"blank level0\" ></th>        <th class=\"col_heading level0 col0\" >9th</th>        <th class=\"col_heading level0 col1\" >10th</th>        <th class=\"col_heading level0 col2\" >11th</th>        <th class=\"col_heading level0 col3\" >12th</th>    </tr></thead><tbody>\n",
       "                <tr>\n",
       "                        <th id=\"T_d2b50338_d286_11e9_8418_34415d51098blevel0_row0\" class=\"row_heading level0 row0\" >Bailey High School</th>\n",
       "                        <td id=\"T_d2b50338_d286_11e9_8418_34415d51098brow0_col0\" class=\"data row0 col0\" >81.30</td>\n",
       "                        <td id=\"T_d2b50338_d286_11e9_8418_34415d51098brow0_col1\" class=\"data row0 col1\" >80.91</td>\n",
       "                        <td id=\"T_d2b50338_d286_11e9_8418_34415d51098brow0_col2\" class=\"data row0 col2\" >80.95</td>\n",
       "                        <td id=\"T_d2b50338_d286_11e9_8418_34415d51098brow0_col3\" class=\"data row0 col3\" >80.91</td>\n",
       "            </tr>\n",
       "            <tr>\n",
       "                        <th id=\"T_d2b50338_d286_11e9_8418_34415d51098blevel0_row1\" class=\"row_heading level0 row1\" >Cabrera High School</th>\n",
       "                        <td id=\"T_d2b50338_d286_11e9_8418_34415d51098brow1_col0\" class=\"data row1 col0\" >83.68</td>\n",
       "                        <td id=\"T_d2b50338_d286_11e9_8418_34415d51098brow1_col1\" class=\"data row1 col1\" >84.25</td>\n",
       "                        <td id=\"T_d2b50338_d286_11e9_8418_34415d51098brow1_col2\" class=\"data row1 col2\" >83.79</td>\n",
       "                        <td id=\"T_d2b50338_d286_11e9_8418_34415d51098brow1_col3\" class=\"data row1 col3\" >84.29</td>\n",
       "            </tr>\n",
       "            <tr>\n",
       "                        <th id=\"T_d2b50338_d286_11e9_8418_34415d51098blevel0_row2\" class=\"row_heading level0 row2\" >Figueroa High School</th>\n",
       "                        <td id=\"T_d2b50338_d286_11e9_8418_34415d51098brow2_col0\" class=\"data row2 col0\" >81.20</td>\n",
       "                        <td id=\"T_d2b50338_d286_11e9_8418_34415d51098brow2_col1\" class=\"data row2 col1\" >81.41</td>\n",
       "                        <td id=\"T_d2b50338_d286_11e9_8418_34415d51098brow2_col2\" class=\"data row2 col2\" >80.64</td>\n",
       "                        <td id=\"T_d2b50338_d286_11e9_8418_34415d51098brow2_col3\" class=\"data row2 col3\" >81.38</td>\n",
       "            </tr>\n",
       "            <tr>\n",
       "                        <th id=\"T_d2b50338_d286_11e9_8418_34415d51098blevel0_row3\" class=\"row_heading level0 row3\" >Ford High School</th>\n",
       "                        <td id=\"T_d2b50338_d286_11e9_8418_34415d51098brow3_col0\" class=\"data row3 col0\" >80.63</td>\n",
       "                        <td id=\"T_d2b50338_d286_11e9_8418_34415d51098brow3_col1\" class=\"data row3 col1\" >81.26</td>\n",
       "                        <td id=\"T_d2b50338_d286_11e9_8418_34415d51098brow3_col2\" class=\"data row3 col2\" >80.40</td>\n",
       "                        <td id=\"T_d2b50338_d286_11e9_8418_34415d51098brow3_col3\" class=\"data row3 col3\" >80.66</td>\n",
       "            </tr>\n",
       "            <tr>\n",
       "                        <th id=\"T_d2b50338_d286_11e9_8418_34415d51098blevel0_row4\" class=\"row_heading level0 row4\" >Griffin High School</th>\n",
       "                        <td id=\"T_d2b50338_d286_11e9_8418_34415d51098brow4_col0\" class=\"data row4 col0\" >83.37</td>\n",
       "                        <td id=\"T_d2b50338_d286_11e9_8418_34415d51098brow4_col1\" class=\"data row4 col1\" >83.71</td>\n",
       "                        <td id=\"T_d2b50338_d286_11e9_8418_34415d51098brow4_col2\" class=\"data row4 col2\" >84.29</td>\n",
       "                        <td id=\"T_d2b50338_d286_11e9_8418_34415d51098brow4_col3\" class=\"data row4 col3\" >84.01</td>\n",
       "            </tr>\n",
       "            <tr>\n",
       "                        <th id=\"T_d2b50338_d286_11e9_8418_34415d51098blevel0_row5\" class=\"row_heading level0 row5\" >Hernandez High School</th>\n",
       "                        <td id=\"T_d2b50338_d286_11e9_8418_34415d51098brow5_col0\" class=\"data row5 col0\" >80.87</td>\n",
       "                        <td id=\"T_d2b50338_d286_11e9_8418_34415d51098brow5_col1\" class=\"data row5 col1\" >80.66</td>\n",
       "                        <td id=\"T_d2b50338_d286_11e9_8418_34415d51098brow5_col2\" class=\"data row5 col2\" >81.40</td>\n",
       "                        <td id=\"T_d2b50338_d286_11e9_8418_34415d51098brow5_col3\" class=\"data row5 col3\" >80.86</td>\n",
       "            </tr>\n",
       "            <tr>\n",
       "                        <th id=\"T_d2b50338_d286_11e9_8418_34415d51098blevel0_row6\" class=\"row_heading level0 row6\" >Holden High School</th>\n",
       "                        <td id=\"T_d2b50338_d286_11e9_8418_34415d51098brow6_col0\" class=\"data row6 col0\" >83.68</td>\n",
       "                        <td id=\"T_d2b50338_d286_11e9_8418_34415d51098brow6_col1\" class=\"data row6 col1\" >83.32</td>\n",
       "                        <td id=\"T_d2b50338_d286_11e9_8418_34415d51098brow6_col2\" class=\"data row6 col2\" >83.82</td>\n",
       "                        <td id=\"T_d2b50338_d286_11e9_8418_34415d51098brow6_col3\" class=\"data row6 col3\" >84.70</td>\n",
       "            </tr>\n",
       "            <tr>\n",
       "                        <th id=\"T_d2b50338_d286_11e9_8418_34415d51098blevel0_row7\" class=\"row_heading level0 row7\" >Huang High School</th>\n",
       "                        <td id=\"T_d2b50338_d286_11e9_8418_34415d51098brow7_col0\" class=\"data row7 col0\" >81.29</td>\n",
       "                        <td id=\"T_d2b50338_d286_11e9_8418_34415d51098brow7_col1\" class=\"data row7 col1\" >81.51</td>\n",
       "                        <td id=\"T_d2b50338_d286_11e9_8418_34415d51098brow7_col2\" class=\"data row7 col2\" >81.42</td>\n",
       "                        <td id=\"T_d2b50338_d286_11e9_8418_34415d51098brow7_col3\" class=\"data row7 col3\" >80.31</td>\n",
       "            </tr>\n",
       "            <tr>\n",
       "                        <th id=\"T_d2b50338_d286_11e9_8418_34415d51098blevel0_row8\" class=\"row_heading level0 row8\" >Johnson High School</th>\n",
       "                        <td id=\"T_d2b50338_d286_11e9_8418_34415d51098brow8_col0\" class=\"data row8 col0\" >81.26</td>\n",
       "                        <td id=\"T_d2b50338_d286_11e9_8418_34415d51098brow8_col1\" class=\"data row8 col1\" >80.77</td>\n",
       "                        <td id=\"T_d2b50338_d286_11e9_8418_34415d51098brow8_col2\" class=\"data row8 col2\" >80.62</td>\n",
       "                        <td id=\"T_d2b50338_d286_11e9_8418_34415d51098brow8_col3\" class=\"data row8 col3\" >81.23</td>\n",
       "            </tr>\n",
       "            <tr>\n",
       "                        <th id=\"T_d2b50338_d286_11e9_8418_34415d51098blevel0_row9\" class=\"row_heading level0 row9\" >Pena High School</th>\n",
       "                        <td id=\"T_d2b50338_d286_11e9_8418_34415d51098brow9_col0\" class=\"data row9 col0\" >83.81</td>\n",
       "                        <td id=\"T_d2b50338_d286_11e9_8418_34415d51098brow9_col1\" class=\"data row9 col1\" >83.61</td>\n",
       "                        <td id=\"T_d2b50338_d286_11e9_8418_34415d51098brow9_col2\" class=\"data row9 col2\" >84.34</td>\n",
       "                        <td id=\"T_d2b50338_d286_11e9_8418_34415d51098brow9_col3\" class=\"data row9 col3\" >84.59</td>\n",
       "            </tr>\n",
       "            <tr>\n",
       "                        <th id=\"T_d2b50338_d286_11e9_8418_34415d51098blevel0_row10\" class=\"row_heading level0 row10\" >Rodriguez High School</th>\n",
       "                        <td id=\"T_d2b50338_d286_11e9_8418_34415d51098brow10_col0\" class=\"data row10 col0\" >80.99</td>\n",
       "                        <td id=\"T_d2b50338_d286_11e9_8418_34415d51098brow10_col1\" class=\"data row10 col1\" >80.63</td>\n",
       "                        <td id=\"T_d2b50338_d286_11e9_8418_34415d51098brow10_col2\" class=\"data row10 col2\" >80.86</td>\n",
       "                        <td id=\"T_d2b50338_d286_11e9_8418_34415d51098brow10_col3\" class=\"data row10 col3\" >80.38</td>\n",
       "            </tr>\n",
       "            <tr>\n",
       "                        <th id=\"T_d2b50338_d286_11e9_8418_34415d51098blevel0_row11\" class=\"row_heading level0 row11\" >Shelton High School</th>\n",
       "                        <td id=\"T_d2b50338_d286_11e9_8418_34415d51098brow11_col0\" class=\"data row11 col0\" >84.12</td>\n",
       "                        <td id=\"T_d2b50338_d286_11e9_8418_34415d51098brow11_col1\" class=\"data row11 col1\" >83.44</td>\n",
       "                        <td id=\"T_d2b50338_d286_11e9_8418_34415d51098brow11_col2\" class=\"data row11 col2\" >84.37</td>\n",
       "                        <td id=\"T_d2b50338_d286_11e9_8418_34415d51098brow11_col3\" class=\"data row11 col3\" >82.78</td>\n",
       "            </tr>\n",
       "            <tr>\n",
       "                        <th id=\"T_d2b50338_d286_11e9_8418_34415d51098blevel0_row12\" class=\"row_heading level0 row12\" >Thomas High School</th>\n",
       "                        <td id=\"T_d2b50338_d286_11e9_8418_34415d51098brow12_col0\" class=\"data row12 col0\" >83.73</td>\n",
       "                        <td id=\"T_d2b50338_d286_11e9_8418_34415d51098brow12_col1\" class=\"data row12 col1\" >84.25</td>\n",
       "                        <td id=\"T_d2b50338_d286_11e9_8418_34415d51098brow12_col2\" class=\"data row12 col2\" >83.59</td>\n",
       "                        <td id=\"T_d2b50338_d286_11e9_8418_34415d51098brow12_col3\" class=\"data row12 col3\" >83.83</td>\n",
       "            </tr>\n",
       "            <tr>\n",
       "                        <th id=\"T_d2b50338_d286_11e9_8418_34415d51098blevel0_row13\" class=\"row_heading level0 row13\" >Wilson High School</th>\n",
       "                        <td id=\"T_d2b50338_d286_11e9_8418_34415d51098brow13_col0\" class=\"data row13 col0\" >83.94</td>\n",
       "                        <td id=\"T_d2b50338_d286_11e9_8418_34415d51098brow13_col1\" class=\"data row13 col1\" >84.02</td>\n",
       "                        <td id=\"T_d2b50338_d286_11e9_8418_34415d51098brow13_col2\" class=\"data row13 col2\" >83.76</td>\n",
       "                        <td id=\"T_d2b50338_d286_11e9_8418_34415d51098brow13_col3\" class=\"data row13 col3\" >84.32</td>\n",
       "            </tr>\n",
       "            <tr>\n",
       "                        <th id=\"T_d2b50338_d286_11e9_8418_34415d51098blevel0_row14\" class=\"row_heading level0 row14\" >Wright High School</th>\n",
       "                        <td id=\"T_d2b50338_d286_11e9_8418_34415d51098brow14_col0\" class=\"data row14 col0\" >83.83</td>\n",
       "                        <td id=\"T_d2b50338_d286_11e9_8418_34415d51098brow14_col1\" class=\"data row14 col1\" >83.81</td>\n",
       "                        <td id=\"T_d2b50338_d286_11e9_8418_34415d51098brow14_col2\" class=\"data row14 col2\" >84.16</td>\n",
       "                        <td id=\"T_d2b50338_d286_11e9_8418_34415d51098brow14_col3\" class=\"data row14 col3\" >84.07</td>\n",
       "            </tr>\n",
       "    </tbody></table>"
      ],
      "text/plain": [
       "<pandas.io.formats.style.Styler at 0x182684c2fd0>"
      ]
     },
     "execution_count": 64,
     "metadata": {},
     "output_type": "execute_result"
    }
   ],
   "source": [
    "avgreading9 = grade9['reading_score'].mean()\n",
    "\n",
    "avgreading10 = grade10['reading_score'].mean()\n",
    "\n",
    "avgreading11 = grade11['reading_score'].mean()\n",
    "\n",
    "avgreading12 = grade12['reading_score'].mean()\n",
    "\n",
    "\n",
    "\n",
    "school_reading = pd.DataFrame({'9th':avgreading9,\n",
    "                               '10th':avgreading10,\n",
    "                               '11th':avgreading11,\n",
    "                               '12th':avgreading12})\n",
    "school_reading.index.name=None\n",
    "\n",
    "school_reading\n",
    "school_reading.style.format('{0:.2f}')"
   ]
  },
  {
   "cell_type": "code",
   "execution_count": null,
   "metadata": {},
   "outputs": [],
   "source": []
  },
  {
   "cell_type": "markdown",
   "metadata": {},
   "source": [
    "## Scores by School Spending"
   ]
  },
  {
   "cell_type": "markdown",
   "metadata": {},
   "source": [
    "* Create a table that breaks down school performances based on average Spending Ranges (Per Student). Use 4 reasonable bins to group school spending. Include in the table each of the following:\n",
    "  * Average Math Score\n",
    "  * Average Reading Score\n",
    "  * % Passing Math\n",
    "  * % Passing Reading\n",
    "  * Overall Passing Rate (Average of the above two)"
   ]
  },
  {
   "cell_type": "code",
   "execution_count": 93,
   "metadata": {
    "scrolled": false
   },
   "outputs": [
    {
     "data": {
      "text/html": [
       "<style  type=\"text/css\" >\n",
       "</style><table id=\"T_7fc5d7fe_d2f9_11e9_958d_34415d51098b\" ><thead>    <tr>        <th class=\"blank level0\" ></th>        <th class=\"col_heading level0 col0\" >Average Math Score</th>        <th class=\"col_heading level0 col1\" >Average Reading Score</th>        <th class=\"col_heading level0 col2\" >% Passing Math</th>        <th class=\"col_heading level0 col3\" >% Passing Reading</th>        <th class=\"col_heading level0 col4\" >% Overall Passing Rate</th>    </tr>    <tr>        <th class=\"index_name level0\" >Spending Ranges (Per Student)</th>        <th class=\"blank\" ></th>        <th class=\"blank\" ></th>        <th class=\"blank\" ></th>        <th class=\"blank\" ></th>        <th class=\"blank\" ></th>    </tr></thead><tbody>\n",
       "                <tr>\n",
       "                        <th id=\"T_7fc5d7fe_d2f9_11e9_958d_34415d51098blevel0_row0\" class=\"row_heading level0 row0\" ><$585</th>\n",
       "                        <td id=\"T_7fc5d7fe_d2f9_11e9_958d_34415d51098brow0_col0\" class=\"data row0 col0\" >83.46</td>\n",
       "                        <td id=\"T_7fc5d7fe_d2f9_11e9_958d_34415d51098brow0_col1\" class=\"data row0 col1\" >83.93</td>\n",
       "                        <td id=\"T_7fc5d7fe_d2f9_11e9_958d_34415d51098brow0_col2\" class=\"data row0 col2\" >93.46%</td>\n",
       "                        <td id=\"T_7fc5d7fe_d2f9_11e9_958d_34415d51098brow0_col3\" class=\"data row0 col3\" >96.61%</td>\n",
       "                        <td id=\"T_7fc5d7fe_d2f9_11e9_958d_34415d51098brow0_col4\" class=\"data row0 col4\" >95.04%</td>\n",
       "            </tr>\n",
       "            <tr>\n",
       "                        <th id=\"T_7fc5d7fe_d2f9_11e9_958d_34415d51098blevel0_row1\" class=\"row_heading level0 row1\" >$585-615</th>\n",
       "                        <td id=\"T_7fc5d7fe_d2f9_11e9_958d_34415d51098brow1_col0\" class=\"data row1 col0\" >83.60</td>\n",
       "                        <td id=\"T_7fc5d7fe_d2f9_11e9_958d_34415d51098brow1_col1\" class=\"data row1 col1\" >83.89</td>\n",
       "                        <td id=\"T_7fc5d7fe_d2f9_11e9_958d_34415d51098brow1_col2\" class=\"data row1 col2\" >94.23%</td>\n",
       "                        <td id=\"T_7fc5d7fe_d2f9_11e9_958d_34415d51098brow1_col3\" class=\"data row1 col3\" >95.90%</td>\n",
       "                        <td id=\"T_7fc5d7fe_d2f9_11e9_958d_34415d51098brow1_col4\" class=\"data row1 col4\" >95.07%</td>\n",
       "            </tr>\n",
       "            <tr>\n",
       "                        <th id=\"T_7fc5d7fe_d2f9_11e9_958d_34415d51098blevel0_row2\" class=\"row_heading level0 row2\" >$615-645</th>\n",
       "                        <td id=\"T_7fc5d7fe_d2f9_11e9_958d_34415d51098brow2_col0\" class=\"data row2 col0\" >79.08</td>\n",
       "                        <td id=\"T_7fc5d7fe_d2f9_11e9_958d_34415d51098brow2_col1\" class=\"data row2 col1\" >81.89</td>\n",
       "                        <td id=\"T_7fc5d7fe_d2f9_11e9_958d_34415d51098brow2_col2\" class=\"data row2 col2\" >75.67%</td>\n",
       "                        <td id=\"T_7fc5d7fe_d2f9_11e9_958d_34415d51098brow2_col3\" class=\"data row2 col3\" >86.11%</td>\n",
       "                        <td id=\"T_7fc5d7fe_d2f9_11e9_958d_34415d51098brow2_col4\" class=\"data row2 col4\" >80.89%</td>\n",
       "            </tr>\n",
       "            <tr>\n",
       "                        <th id=\"T_7fc5d7fe_d2f9_11e9_958d_34415d51098blevel0_row3\" class=\"row_heading level0 row3\" >$645-675</th>\n",
       "                        <td id=\"T_7fc5d7fe_d2f9_11e9_958d_34415d51098brow3_col0\" class=\"data row3 col0\" >77.00</td>\n",
       "                        <td id=\"T_7fc5d7fe_d2f9_11e9_958d_34415d51098brow3_col1\" class=\"data row3 col1\" >81.03</td>\n",
       "                        <td id=\"T_7fc5d7fe_d2f9_11e9_958d_34415d51098brow3_col2\" class=\"data row3 col2\" >66.16%</td>\n",
       "                        <td id=\"T_7fc5d7fe_d2f9_11e9_958d_34415d51098brow3_col3\" class=\"data row3 col3\" >81.13%</td>\n",
       "                        <td id=\"T_7fc5d7fe_d2f9_11e9_958d_34415d51098brow3_col4\" class=\"data row3 col4\" >73.65%</td>\n",
       "            </tr>\n",
       "    </tbody></table>"
      ],
      "text/plain": [
       "<pandas.io.formats.style.Styler at 0x18268bb5908>"
      ]
     },
     "execution_count": 93,
     "metadata": {},
     "output_type": "execute_result"
    }
   ],
   "source": [
    "# Sample bins. Feel free to create your own bins.\n",
    "spending_bins = [0, 585, 615, 645, 675]\n",
    "group_names = [\"<$585\", \"$585-615\", \"$615-645\", \"$645-675\"]\n",
    "\n",
    "# create bin column\n",
    "School_Summary['Spending Ranges (Per Student)'] = pd.cut(School_Summary['Per Student Budget'],spending_bins, labels = group_names)\n",
    "\n",
    "# Groupby bins\n",
    "Spending_groups = School_Summary.groupby('Spending Ranges (Per Student)')\n",
    "\n",
    "avg_Spending = Spending_groups[['Average Math Score','Average Reading Score','% Passing Math','% Passing Reading','% Overall Passing Rate']].mean()\n",
    "\n",
    "#format dataframe\n",
    "format_bins = {'Average Math Score':'{0:,.2f}','Average Reading Score':'{0:,.2f}','% Passing Math':'{0:,.2f}%','% Passing Reading':'{0:,.2f}%','% Overall Passing Rate':'{0:,.2f}%'}\n",
    "avg_Spending.style.format(format_bins)\n",
    "\n"
   ]
  },
  {
   "cell_type": "code",
   "execution_count": 18,
   "metadata": {},
   "outputs": [
    {
     "data": {
      "text/html": [
       "<div>\n",
       "<style scoped>\n",
       "    .dataframe tbody tr th:only-of-type {\n",
       "        vertical-align: middle;\n",
       "    }\n",
       "\n",
       "    .dataframe tbody tr th {\n",
       "        vertical-align: top;\n",
       "    }\n",
       "\n",
       "    .dataframe thead th {\n",
       "        text-align: right;\n",
       "    }\n",
       "</style>\n",
       "<table border=\"1\" class=\"dataframe\">\n",
       "  <thead>\n",
       "    <tr style=\"text-align: right;\">\n",
       "      <th></th>\n",
       "      <th>Average Math Score</th>\n",
       "      <th>Average Reading Score</th>\n",
       "      <th>% Passing Math</th>\n",
       "      <th>% Passing Reading</th>\n",
       "      <th>% Overall Passing Rate</th>\n",
       "    </tr>\n",
       "    <tr>\n",
       "      <th>Spending Ranges (Per Student)</th>\n",
       "      <th></th>\n",
       "      <th></th>\n",
       "      <th></th>\n",
       "      <th></th>\n",
       "      <th></th>\n",
       "    </tr>\n",
       "  </thead>\n",
       "  <tbody>\n",
       "    <tr>\n",
       "      <th>&lt;$585</th>\n",
       "      <td>83.455399</td>\n",
       "      <td>83.933814</td>\n",
       "      <td>93.460096</td>\n",
       "      <td>96.610877</td>\n",
       "      <td>95.035486</td>\n",
       "    </tr>\n",
       "    <tr>\n",
       "      <th>$585-615</th>\n",
       "      <td>83.599686</td>\n",
       "      <td>83.885211</td>\n",
       "      <td>94.230858</td>\n",
       "      <td>95.900287</td>\n",
       "      <td>95.065572</td>\n",
       "    </tr>\n",
       "    <tr>\n",
       "      <th>$615-645</th>\n",
       "      <td>79.079225</td>\n",
       "      <td>81.891436</td>\n",
       "      <td>75.668212</td>\n",
       "      <td>86.106569</td>\n",
       "      <td>80.887391</td>\n",
       "    </tr>\n",
       "    <tr>\n",
       "      <th>$645-675</th>\n",
       "      <td>76.997210</td>\n",
       "      <td>81.027843</td>\n",
       "      <td>66.164813</td>\n",
       "      <td>81.133951</td>\n",
       "      <td>73.649382</td>\n",
       "    </tr>\n",
       "  </tbody>\n",
       "</table>\n",
       "</div>"
      ],
      "text/plain": [
       "                               Average Math Score  Average Reading Score  \\\n",
       "Spending Ranges (Per Student)                                              \n",
       "<$585                                   83.455399              83.933814   \n",
       "$585-615                                83.599686              83.885211   \n",
       "$615-645                                79.079225              81.891436   \n",
       "$645-675                                76.997210              81.027843   \n",
       "\n",
       "                               % Passing Math  % Passing Reading  \\\n",
       "Spending Ranges (Per Student)                                      \n",
       "<$585                               93.460096          96.610877   \n",
       "$585-615                            94.230858          95.900287   \n",
       "$615-645                            75.668212          86.106569   \n",
       "$645-675                            66.164813          81.133951   \n",
       "\n",
       "                               % Overall Passing Rate  \n",
       "Spending Ranges (Per Student)                          \n",
       "<$585                                       95.035486  \n",
       "$585-615                                    95.065572  \n",
       "$615-645                                    80.887391  \n",
       "$645-675                                    73.649382  "
      ]
     },
     "execution_count": 18,
     "metadata": {},
     "output_type": "execute_result"
    }
   ],
   "source": []
  },
  {
   "cell_type": "markdown",
   "metadata": {},
   "source": [
    "## Scores by School Size"
   ]
  },
  {
   "cell_type": "markdown",
   "metadata": {},
   "source": [
    "* Perform the same operations as above, based on school size."
   ]
  },
  {
   "cell_type": "code",
   "execution_count": 94,
   "metadata": {},
   "outputs": [
    {
     "data": {
      "text/html": [
       "<style  type=\"text/css\" >\n",
       "</style><table id=\"T_9bd32b00_d2f9_11e9_9bc1_34415d51098b\" ><thead>    <tr>        <th class=\"blank level0\" ></th>        <th class=\"col_heading level0 col0\" >Average Math Score</th>        <th class=\"col_heading level0 col1\" >Average Reading Score</th>        <th class=\"col_heading level0 col2\" >% Passing Math</th>        <th class=\"col_heading level0 col3\" >% Passing Reading</th>        <th class=\"col_heading level0 col4\" >% Overall Passing Rate</th>    </tr>    <tr>        <th class=\"index_name level0\" >School Size</th>        <th class=\"blank\" ></th>        <th class=\"blank\" ></th>        <th class=\"blank\" ></th>        <th class=\"blank\" ></th>        <th class=\"blank\" ></th>    </tr></thead><tbody>\n",
       "                <tr>\n",
       "                        <th id=\"T_9bd32b00_d2f9_11e9_9bc1_34415d51098blevel0_row0\" class=\"row_heading level0 row0\" >Small (<1000)</th>\n",
       "                        <td id=\"T_9bd32b00_d2f9_11e9_9bc1_34415d51098brow0_col0\" class=\"data row0 col0\" >83.82</td>\n",
       "                        <td id=\"T_9bd32b00_d2f9_11e9_9bc1_34415d51098brow0_col1\" class=\"data row0 col1\" >83.93</td>\n",
       "                        <td id=\"T_9bd32b00_d2f9_11e9_9bc1_34415d51098brow0_col2\" class=\"data row0 col2\" >93.55%</td>\n",
       "                        <td id=\"T_9bd32b00_d2f9_11e9_9bc1_34415d51098brow0_col3\" class=\"data row0 col3\" >96.10%</td>\n",
       "                        <td id=\"T_9bd32b00_d2f9_11e9_9bc1_34415d51098brow0_col4\" class=\"data row0 col4\" >94.82%</td>\n",
       "            </tr>\n",
       "            <tr>\n",
       "                        <th id=\"T_9bd32b00_d2f9_11e9_9bc1_34415d51098blevel0_row1\" class=\"row_heading level0 row1\" >Medium (1000-2000)</th>\n",
       "                        <td id=\"T_9bd32b00_d2f9_11e9_9bc1_34415d51098brow1_col0\" class=\"data row1 col0\" >83.37</td>\n",
       "                        <td id=\"T_9bd32b00_d2f9_11e9_9bc1_34415d51098brow1_col1\" class=\"data row1 col1\" >83.86</td>\n",
       "                        <td id=\"T_9bd32b00_d2f9_11e9_9bc1_34415d51098brow1_col2\" class=\"data row1 col2\" >93.60%</td>\n",
       "                        <td id=\"T_9bd32b00_d2f9_11e9_9bc1_34415d51098brow1_col3\" class=\"data row1 col3\" >96.79%</td>\n",
       "                        <td id=\"T_9bd32b00_d2f9_11e9_9bc1_34415d51098brow1_col4\" class=\"data row1 col4\" >95.20%</td>\n",
       "            </tr>\n",
       "            <tr>\n",
       "                        <th id=\"T_9bd32b00_d2f9_11e9_9bc1_34415d51098blevel0_row2\" class=\"row_heading level0 row2\" >Large (2000-5000)</th>\n",
       "                        <td id=\"T_9bd32b00_d2f9_11e9_9bc1_34415d51098brow2_col0\" class=\"data row2 col0\" >77.75</td>\n",
       "                        <td id=\"T_9bd32b00_d2f9_11e9_9bc1_34415d51098brow2_col1\" class=\"data row2 col1\" >81.34</td>\n",
       "                        <td id=\"T_9bd32b00_d2f9_11e9_9bc1_34415d51098brow2_col2\" class=\"data row2 col2\" >69.96%</td>\n",
       "                        <td id=\"T_9bd32b00_d2f9_11e9_9bc1_34415d51098brow2_col3\" class=\"data row2 col3\" >82.77%</td>\n",
       "                        <td id=\"T_9bd32b00_d2f9_11e9_9bc1_34415d51098brow2_col4\" class=\"data row2 col4\" >76.36%</td>\n",
       "            </tr>\n",
       "    </tbody></table>"
      ],
      "text/plain": [
       "<pandas.io.formats.style.Styler at 0x18267ff9518>"
      ]
     },
     "execution_count": 94,
     "metadata": {},
     "output_type": "execute_result"
    }
   ],
   "source": [
    "# Sample bins. Feel free to create your own bins.\n",
    "size_bins = [0, 1000, 2000, 5000]\n",
    "group_names = [\"Small (<1000)\", \"Medium (1000-2000)\", \"Large (2000-5000)\"]\n",
    "\n",
    "# create bin column\n",
    "School_Summary['School Size'] = pd.cut(School_Summary['Total Students'],size_bins, labels = group_names)\n",
    "\n",
    "# Groupby bins\n",
    "bin_Size = School_Summary.groupby('School Size')\n",
    "\n",
    "avg_Size = bin_Size[['Average Math Score','Average Reading Score','% Passing Math','% Passing Reading','% Overall Passing Rate']].mean()\n",
    "\n",
    "#format dataframe\n",
    "format_bins = {'Average Math Score':'{0:,.2f}','Average Reading Score':'{0:,.2f}','% Passing Math':'{0:,.2f}%','% Passing Reading':'{0:,.2f}%','% Overall Passing Rate':'{0:,.2f}%'}\n",
    "avg_Size.style.format(format_bins)\n",
    "\n"
   ]
  },
  {
   "cell_type": "code",
   "execution_count": null,
   "metadata": {},
   "outputs": [],
   "source": []
  },
  {
   "cell_type": "code",
   "execution_count": 19,
   "metadata": {
    "scrolled": true
   },
   "outputs": [
    {
     "data": {
      "text/html": [
       "<div>\n",
       "<style scoped>\n",
       "    .dataframe tbody tr th:only-of-type {\n",
       "        vertical-align: middle;\n",
       "    }\n",
       "\n",
       "    .dataframe tbody tr th {\n",
       "        vertical-align: top;\n",
       "    }\n",
       "\n",
       "    .dataframe thead th {\n",
       "        text-align: right;\n",
       "    }\n",
       "</style>\n",
       "<table border=\"1\" class=\"dataframe\">\n",
       "  <thead>\n",
       "    <tr style=\"text-align: right;\">\n",
       "      <th></th>\n",
       "      <th>Average Math Score</th>\n",
       "      <th>Average Reading Score</th>\n",
       "      <th>% Passing Math</th>\n",
       "      <th>% Passing Reading</th>\n",
       "      <th>% Overall Passing Rate</th>\n",
       "    </tr>\n",
       "    <tr>\n",
       "      <th>School Size</th>\n",
       "      <th></th>\n",
       "      <th></th>\n",
       "      <th></th>\n",
       "      <th></th>\n",
       "      <th></th>\n",
       "    </tr>\n",
       "  </thead>\n",
       "  <tbody>\n",
       "    <tr>\n",
       "      <th>Small (&lt;1000)</th>\n",
       "      <td>83.821598</td>\n",
       "      <td>83.929843</td>\n",
       "      <td>93.550225</td>\n",
       "      <td>96.099437</td>\n",
       "      <td>94.824831</td>\n",
       "    </tr>\n",
       "    <tr>\n",
       "      <th>Medium (1000-2000)</th>\n",
       "      <td>83.374684</td>\n",
       "      <td>83.864438</td>\n",
       "      <td>93.599695</td>\n",
       "      <td>96.790680</td>\n",
       "      <td>95.195187</td>\n",
       "    </tr>\n",
       "    <tr>\n",
       "      <th>Large (2000-5000)</th>\n",
       "      <td>77.746417</td>\n",
       "      <td>81.344493</td>\n",
       "      <td>69.963361</td>\n",
       "      <td>82.766634</td>\n",
       "      <td>76.364998</td>\n",
       "    </tr>\n",
       "  </tbody>\n",
       "</table>\n",
       "</div>"
      ],
      "text/plain": [
       "                    Average Math Score  Average Reading Score  % Passing Math  \\\n",
       "School Size                                                                     \n",
       "Small (<1000)                83.821598              83.929843       93.550225   \n",
       "Medium (1000-2000)           83.374684              83.864438       93.599695   \n",
       "Large (2000-5000)            77.746417              81.344493       69.963361   \n",
       "\n",
       "                    % Passing Reading  % Overall Passing Rate  \n",
       "School Size                                                    \n",
       "Small (<1000)               96.099437               94.824831  \n",
       "Medium (1000-2000)          96.790680               95.195187  \n",
       "Large (2000-5000)           82.766634               76.364998  "
      ]
     },
     "execution_count": 19,
     "metadata": {},
     "output_type": "execute_result"
    }
   ],
   "source": []
  },
  {
   "cell_type": "markdown",
   "metadata": {},
   "source": [
    "## Scores by School Type"
   ]
  },
  {
   "cell_type": "markdown",
   "metadata": {},
   "source": [
    "* Perform the same operations as above, based on school type."
   ]
  },
  {
   "cell_type": "code",
   "execution_count": 95,
   "metadata": {},
   "outputs": [
    {
     "data": {
      "text/html": [
       "<style  type=\"text/css\" >\n",
       "</style><table id=\"T_f8fc9e58_d2f9_11e9_aa5d_34415d51098b\" ><thead>    <tr>        <th class=\"blank level0\" ></th>        <th class=\"col_heading level0 col0\" >Average Math Score</th>        <th class=\"col_heading level0 col1\" >Average Reading Score</th>        <th class=\"col_heading level0 col2\" >% Passing Math</th>        <th class=\"col_heading level0 col3\" >% Passing Reading</th>        <th class=\"col_heading level0 col4\" >% Overall Passing Rate</th>    </tr>    <tr>        <th class=\"index_name level0\" >School Type</th>        <th class=\"blank\" ></th>        <th class=\"blank\" ></th>        <th class=\"blank\" ></th>        <th class=\"blank\" ></th>        <th class=\"blank\" ></th>    </tr></thead><tbody>\n",
       "                <tr>\n",
       "                        <th id=\"T_f8fc9e58_d2f9_11e9_aa5d_34415d51098blevel0_row0\" class=\"row_heading level0 row0\" >Charter</th>\n",
       "                        <td id=\"T_f8fc9e58_d2f9_11e9_aa5d_34415d51098brow0_col0\" class=\"data row0 col0\" >83.47</td>\n",
       "                        <td id=\"T_f8fc9e58_d2f9_11e9_aa5d_34415d51098brow0_col1\" class=\"data row0 col1\" >83.90</td>\n",
       "                        <td id=\"T_f8fc9e58_d2f9_11e9_aa5d_34415d51098brow0_col2\" class=\"data row0 col2\" >93.62%</td>\n",
       "                        <td id=\"T_f8fc9e58_d2f9_11e9_aa5d_34415d51098brow0_col3\" class=\"data row0 col3\" >96.59%</td>\n",
       "                        <td id=\"T_f8fc9e58_d2f9_11e9_aa5d_34415d51098brow0_col4\" class=\"data row0 col4\" >95.10%</td>\n",
       "            </tr>\n",
       "            <tr>\n",
       "                        <th id=\"T_f8fc9e58_d2f9_11e9_aa5d_34415d51098blevel0_row1\" class=\"row_heading level0 row1\" >District</th>\n",
       "                        <td id=\"T_f8fc9e58_d2f9_11e9_aa5d_34415d51098brow1_col0\" class=\"data row1 col0\" >76.96</td>\n",
       "                        <td id=\"T_f8fc9e58_d2f9_11e9_aa5d_34415d51098brow1_col1\" class=\"data row1 col1\" >80.97</td>\n",
       "                        <td id=\"T_f8fc9e58_d2f9_11e9_aa5d_34415d51098brow1_col2\" class=\"data row1 col2\" >66.55%</td>\n",
       "                        <td id=\"T_f8fc9e58_d2f9_11e9_aa5d_34415d51098brow1_col3\" class=\"data row1 col3\" >80.80%</td>\n",
       "                        <td id=\"T_f8fc9e58_d2f9_11e9_aa5d_34415d51098brow1_col4\" class=\"data row1 col4\" >73.67%</td>\n",
       "            </tr>\n",
       "    </tbody></table>"
      ],
      "text/plain": [
       "<pandas.io.formats.style.Styler at 0x18268bb5400>"
      ]
     },
     "execution_count": 95,
     "metadata": {},
     "output_type": "execute_result"
    }
   ],
   "source": [
    "# Groupby bins\n",
    "bin_Size = School_Summary.groupby('School Type')\n",
    "\n",
    "avg_Size = bin_Size[['Average Math Score','Average Reading Score','% Passing Math','% Passing Reading','% Overall Passing Rate']].mean()\n",
    "\n",
    "#format dataframe\n",
    "format_bins = {'Average Math Score':'{0:,.2f}','Average Reading Score':'{0:,.2f}','% Passing Math':'{0:,.2f}%','% Passing Reading':'{0:,.2f}%','% Overall Passing Rate':'{0:,.2f}%'}\n",
    "avg_Size.style.format(format_bins)"
   ]
  },
  {
   "cell_type": "code",
   "execution_count": 20,
   "metadata": {},
   "outputs": [
    {
     "data": {
      "text/html": [
       "<div>\n",
       "<style scoped>\n",
       "    .dataframe tbody tr th:only-of-type {\n",
       "        vertical-align: middle;\n",
       "    }\n",
       "\n",
       "    .dataframe tbody tr th {\n",
       "        vertical-align: top;\n",
       "    }\n",
       "\n",
       "    .dataframe thead th {\n",
       "        text-align: right;\n",
       "    }\n",
       "</style>\n",
       "<table border=\"1\" class=\"dataframe\">\n",
       "  <thead>\n",
       "    <tr style=\"text-align: right;\">\n",
       "      <th></th>\n",
       "      <th>Average Math Score</th>\n",
       "      <th>Average Reading Score</th>\n",
       "      <th>% Passing Math</th>\n",
       "      <th>% Passing Reading</th>\n",
       "      <th>% Overall Passing Rate</th>\n",
       "    </tr>\n",
       "    <tr>\n",
       "      <th>School Type</th>\n",
       "      <th></th>\n",
       "      <th></th>\n",
       "      <th></th>\n",
       "      <th></th>\n",
       "      <th></th>\n",
       "    </tr>\n",
       "  </thead>\n",
       "  <tbody>\n",
       "    <tr>\n",
       "      <th>Charter</th>\n",
       "      <td>83.473852</td>\n",
       "      <td>83.896421</td>\n",
       "      <td>93.620830</td>\n",
       "      <td>96.586489</td>\n",
       "      <td>95.103660</td>\n",
       "    </tr>\n",
       "    <tr>\n",
       "      <th>District</th>\n",
       "      <td>76.956733</td>\n",
       "      <td>80.966636</td>\n",
       "      <td>66.548453</td>\n",
       "      <td>80.799062</td>\n",
       "      <td>73.673757</td>\n",
       "    </tr>\n",
       "  </tbody>\n",
       "</table>\n",
       "</div>"
      ],
      "text/plain": [
       "             Average Math Score  Average Reading Score  % Passing Math  \\\n",
       "School Type                                                              \n",
       "Charter               83.473852              83.896421       93.620830   \n",
       "District              76.956733              80.966636       66.548453   \n",
       "\n",
       "             % Passing Reading  % Overall Passing Rate  \n",
       "School Type                                             \n",
       "Charter              96.586489               95.103660  \n",
       "District             80.799062               73.673757  "
      ]
     },
     "execution_count": 20,
     "metadata": {},
     "output_type": "execute_result"
    }
   ],
   "source": []
  },
  {
   "cell_type": "markdown",
   "metadata": {},
   "source": [
    "Obersvation 1: \n",
    "    Overall, Charter schools appear to have higher passing rates than District Schools.\n",
    "Observation 2: \n",
    "    Medium sized schools or schools with budgets less than $615 per student appear to have the highest overall pass rates."
   ]
  }
 ],
 "metadata": {
  "anaconda-cloud": {},
  "kernel_info": {
   "name": "python3"
  },
  "kernelspec": {
   "display_name": "Python 3",
   "language": "python",
   "name": "python3"
  },
  "language_info": {
   "codemirror_mode": {
    "name": "ipython",
    "version": 3
   },
   "file_extension": ".py",
   "mimetype": "text/x-python",
   "name": "python",
   "nbconvert_exporter": "python",
   "pygments_lexer": "ipython3",
   "version": "3.7.3"
  },
  "latex_envs": {
   "LaTeX_envs_menu_present": true,
   "autoclose": false,
   "autocomplete": true,
   "bibliofile": "biblio.bib",
   "cite_by": "apalike",
   "current_citInitial": 1,
   "eqLabelWithNumbers": true,
   "eqNumInitial": 1,
   "hotkeys": {
    "equation": "Ctrl-E",
    "itemize": "Ctrl-I"
   },
   "labels_anchors": false,
   "latex_user_defs": false,
   "report_style_numbering": false,
   "user_envs_cfg": false
  },
  "nteract": {
   "version": "0.8.4"
  }
 },
 "nbformat": 4,
 "nbformat_minor": 1
}
